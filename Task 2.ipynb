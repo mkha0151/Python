{
 "cells": [
  {
   "cell_type": "markdown",
   "metadata": {},
   "source": [
    "####  TASK 2\n"
   ]
  },
  {
   "cell_type": "code",
   "execution_count": null,
   "metadata": {},
   "outputs": [],
   "source": [
    "import random\n",
    "def generate_random_number():\n",
    "    return random.randint(1, 100)\n",
    "\n",
    "def get_user_guess():\n",
    "    while True:\n",
    "        user_input = input(\"Enter your guess (between 1 and 100) or type 'exit' to quit: \")\n",
    "        if user_input.lower() == 'exit':\n",
    "            return None  # Indicates that the user wants to exit the game\n",
    "        try:\n",
    "            guess = int(user_input)\n",
    "            if 1 <= guess <= 100:\n",
    "                return guess\n",
    "            else:\n",
    "                print(\"Please enter a number between 1 and 100.\")\n",
    "        except ValueError:\n",
    "            print(\"Invalid input. Please enter an integer.\")\n",
    "\n",
    "def check_guess(guess, target):\n",
    "    if guess < target:\n",
    "        print(\"Higher\")\n",
    "    elif guess > target:\n",
    "        print(\"Lower\")\n",
    "    else:\n",
    "        print(\"Congratulations! You guessed the correct number.\")\n",
    "        return True\n",
    "    return False\n",
    "\n",
    "def play_game():\n",
    "    target = generate_random_number()\n",
    "    correct = False\n",
    "    while not correct:\n",
    "        guess = get_user_guess()\n",
    "        if guess is None:  # Check if the user wants to exit the game\n",
    "            print(\"Thanks for playing! Goodbye!\")\n",
    "            break\n",
    "        correct = check_guess(guess, target)\n",
    "\n",
    "# Start the game\n",
    "play_game()\n",
    "\n"
   ]
  },
  {
   "cell_type": "markdown",
   "metadata": {},
   "source": [
    "### DESCRIPTION\n",
    "1. generate_random_number: This function uses random.randint to generate a random number between 1 and 100.\n",
    "2. get_user_guess: This function prompts the user for input, checks if the input is a valid integer within the range, and returns the valid guess. It continues to prompt the user until a valid input is provided.\n",
    "3. check_guess: This function compares the user's guess to the target number and prints whether the guess is \"Higher\" or \"Lower\". If the guess is correct, it prints a congratulatory message and returns True; otherwise, it returns False.\n",
    "4. play_game: This is the main function that runs the game. It generates the target number, repeatedly prompts the user for guesses, and checks each guess until the user guesses correctly.\n",
    "\n",
    "### User Input Check for Exit:\n",
    "\n",
    "In the get_user_guess function, we check if the user input is 'exit'. If it is, we return None to indicate the user wants to quit the game.\n",
    "Handle Exit in Main Loop:\n",
    "\n",
    "In the play_game function, after calling get_user_guess, we check if the returned value is None. If it is, we print a goodbye message and break out of the loop to end the game.\n",
    "Detailed Explanation for a Beginner\n",
    "Adding the Exit Command:\n",
    "\n",
    "We prompt the user to guess a number or type 'exit' if they want to quit. If the user types 'exit', we return None from the get_user_guess function.\n",
    "Breaking the Loop:\n",
    "\n",
    "In the play_game function, after getting a guess from the user, we check if the guess is None. If it is, this means the user typed 'exit', and we print a goodbye message and exit the loop, effectively ending the game.\n",
    "This update ensures that the user has a way to exit the game whenever they want, making the game more user-friendly.\n"
   ]
  },
  {
   "cell_type": "markdown",
   "metadata": {},
   "source": []
  }
 ],
 "metadata": {
  "kernelspec": {
   "display_name": "Python 3",
   "language": "python",
   "name": "python3"
  },
  "language_info": {
   "codemirror_mode": {
    "name": "ipython",
    "version": 3
   },
   "file_extension": ".py",
   "mimetype": "text/x-python",
   "name": "python",
   "nbconvert_exporter": "python",
   "pygments_lexer": "ipython3",
   "version": "3.10.11"
  }
 },
 "nbformat": 4,
 "nbformat_minor": 2
}
