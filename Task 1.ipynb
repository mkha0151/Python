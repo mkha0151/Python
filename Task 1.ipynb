{
 "cells": [
  {
   "cell_type": "markdown",
   "metadata": {},
   "source": [
    "####  TASK 1\n"
   ]
  },
  {
   "cell_type": "markdown",
   "metadata": {},
   "source": [
    "Intuition Behind the Approach\n",
    "Think of each digit in the list as a building block for a number. If you have the digits 8, 3, 5, and 1, you can form the number 8351. Here's how you can do it step-by-step:\n",
    "\n",
    "Initialize a Result Variable: Start with a result variable set to 0. This variable will hold our final number as we build it.\n",
    "\n",
    "Process Each Digit: For each digit in the list, you multiply the current value of the result by 10 (to shift it left by one place, making room for the next digit) and then add the digit to the result.\n",
    "\n",
    "For the first digit, 8, the result is 0 * 10 + 8 = 8.\n",
    "For the next digit, 3, the result is 8 * 10 + 3 = 83.\n",
    "For the next digit, 5, the result is 83 * 10 + 5 = 835.\n",
    "For the final digit, 1, the result is 835 * 10 + 1 = 8351.\n",
    "Code Implementation\n",
    "Let's write this in Python. We'll also include comments to explain each step."
   ]
  },
  {
   "cell_type": "code",
   "execution_count": 1,
   "metadata": {},
   "outputs": [
    {
     "name": "stdout",
     "output_type": "stream",
     "text": [
      "8351\n"
     ]
    }
   ],
   "source": [
    "def list_to_integer(digits):\n",
    "    # Initialize the result variable to 0\n",
    "    result = 0\n",
    "    \n",
    "    # Iterate over each digit in the list\n",
    "    for digit in digits:\n",
    "        # Multiply the current result by 10 and add the digit\n",
    "        result = result * 10 + digit\n",
    "        \n",
    "    # Return the final result\n",
    "    return result\n",
    "\n",
    "# Test the function with an example list\n",
    "example_list = [8, 3, 5, 1]\n",
    "print(list_to_integer(example_list))  # Output should be 8351\n"
   ]
  },
  {
   "cell_type": "markdown",
   "metadata": {},
   "source": [
    "Explanation of the Code\n",
    "Initialization: We start by setting result to 0. This will hold our final number.\n",
    "Loop Through Digits: We loop through each digit in the list. For each digit:\n",
    "Shift Left and Add Digit: We multiply the current value of result by 10 to shift it left (like moving the digits in a place value system) and then add the current digit.\n",
    "Return the Result: After processing all digits, the result variable holds the final number."
   ]
  }
 ],
 "metadata": {
  "kernelspec": {
   "display_name": "Python 3",
   "language": "python",
   "name": "python3"
  },
  "language_info": {
   "codemirror_mode": {
    "name": "ipython",
    "version": 3
   },
   "file_extension": ".py",
   "mimetype": "text/x-python",
   "name": "python",
   "nbconvert_exporter": "python",
   "pygments_lexer": "ipython3",
   "version": "3.10.11"
  }
 },
 "nbformat": 4,
 "nbformat_minor": 2
}
